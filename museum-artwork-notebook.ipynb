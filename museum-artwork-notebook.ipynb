{
 "cells": [
  {
   "cell_type": "code",
   "execution_count": 1,
   "id": "e5638fd1",
   "metadata": {},
   "outputs": [],
   "source": [
    "import pandas as pd"
   ]
  },
  {
   "cell_type": "code",
   "execution_count": 2,
   "id": "1c489aae",
   "metadata": {},
   "outputs": [
    {
     "data": {
      "text/plain": [
       "5892"
      ]
     },
     "execution_count": 2,
     "metadata": {},
     "output_type": "execute_result"
    }
   ],
   "source": [
    "# *****************************\n",
    "# Carnegie Museum of Art (CMOA)\n",
    "# *****************************\n",
    "\n",
    "#  Read data into pandas\n",
    "cmoa = pd.read_csv('Resources/cmoa.csv')\n",
    "cmoa_raw = pd.read_csv('Resources/cmoa_raw.csv')\n",
    "\n",
    "# Merging Datasets\n",
    "# **********************\n",
    "cmoa = cmoa.merge(cmoa_raw, how='left', on=['title', 'creation_date', 'creation_date_earliest',\n",
    "       'creation_date_latest', 'medium', 'accession_number', 'id',\n",
    "       'credit_line', 'date_acquired', 'department', 'physical_location',\n",
    "       'item_width', 'item_height', 'item_depth', 'item_diameter', 'web_url',\n",
    "       'provenance_text', 'classification', 'image_url', 'artist_id',\n",
    "       'party_type', 'full_name', 'cited_name', 'role', 'nationality',\n",
    "       'birth_date', 'death_date', 'birth_place', 'death_place'])\n",
    "\n",
    "cmoa_df = pd.DataFrame(cmoa).drop_duplicates()\n",
    "\n",
    "# CMOA Artists\n",
    "# **********************\n",
    "cmoa_df['artist_id'].unique()\n",
    "\n",
    "# CMOA Art\n",
    "# **********************\n",
    "cmoa_df['id']\n",
    "\n",
    "cmoa_df = cmoa_df.drop_duplicates('id')\n",
    "len(cmoa_df['full_name'].unique())\n",
    "\n",
    "# cmoa_df['full_name'].str.split(\" \", n = 1, expand = True)\n",
    "# cmoa_df['first_name'] = cmoa_df['full_name'].str.split(\" \", n = 1, expand = True)[0]\n",
    "# cmoa_df['last_name'] = cmoa_df['full_name'].str.split(\" \", n = 1, expand = True)[1]\n",
    "# cmoa_last_name = cmoa_df['last_name'].unique()\n",
    "# cmoa_last_name = pd.DataFrame()\n",
    "# cmoa_last_name"
   ]
  },
  {
   "cell_type": "code",
   "execution_count": 3,
   "id": "f0e57891",
   "metadata": {},
   "outputs": [
    {
     "data": {
      "text/plain": [
       "13760"
      ]
     },
     "execution_count": 3,
     "metadata": {},
     "output_type": "execute_result"
    }
   ],
   "source": [
    "# MOMA Artists\n",
    "# **********************\n",
    "moma_artists = pd.read_csv('Resources/moma-Artists.csv')\n",
    "moma_artists_df = pd.DataFrame(moma_artists).drop_duplicates().rename(columns={'DisplayName':'Artist'})\n",
    "\n",
    "moma_artists_df['BeginDate'] = moma_artists_df.BeginDate.astype('object')\n",
    "moma_artists_df['EndDate'] = moma_artists_df.BeginDate.astype('object')\n",
    "\n",
    "# MOMA Art\n",
    "# **********************\n",
    "moma = pd.read_csv('Resources/moma-Artworks.csv')\n",
    "moma_df = pd.DataFrame(moma).drop_duplicates()\n",
    "\n",
    "moma_df['ConstituentID'] = pd.to_numeric(moma_df['ConstituentID'], errors='coerce')\n",
    "\n",
    "# MOMA Merging Art and Artists\n",
    "# **********************\n",
    "merged = moma_df.merge(moma_artists_df, how='left', on=['ConstituentID', 'Artist', 'ArtistBio', 'Nationality', 'Gender',\n",
    "       'BeginDate', 'EndDate'])\n",
    "moma_df = pd.DataFrame(merged).rename(columns={'Artist':'full_name'})\n",
    "len(moma_df['full_name'].unique())\n",
    "\n",
    "# department = moma_art_df.groupby([moma_art_df['Department']]).agg({'Title':'count'}).sort_values('Title', ascending=False)\n",
    "# classification = moma_art_df.groupby([moma_art_df['Classification']]).agg({'Title':'count'}).sort_values('Title', ascending=False)\n",
    "# moma_art_df['Artist'].str.split(\" \", n = 1, expand = True)\n",
    "# moma_art_df['first_name'] = moma_art_df['Artist'].str.split(\" \", n = 1, expand = True)[0]\n",
    "# moma_art_df['last_name'] = moma_art_df['Artist'].str.split(\" \", n = 1, expand = True)[1]\n",
    "# moma_last_name = moma_art_df['last_name'].unique()\n",
    "# moma_last_name = pd.DataFrame(moma_last_name)\n",
    "# moma_last_name"
   ]
  },
  {
   "cell_type": "code",
   "execution_count": 4,
   "id": "bbba59d7",
   "metadata": {},
   "outputs": [],
   "source": [
    "cmoa_full_name = cmoa_df['full_name'].unique()\n",
    "cmoa_full_name = pd.DataFrame(cmoa_full_name).rename(columns={0: 'full_name'})\n",
    "cmoa_full_name = cmoa_full_name\n",
    "# cmoa_full_name\n",
    "\n",
    "moma_full_name = moma_df['full_name'].unique()\n",
    "moma_full_name = pd.DataFrame(moma_full_name).rename(columns={0: 'full_name'})\n",
    "# moma_full_name\n",
    "\n",
    "# concatenate the two artist full_name dataframes, then drop duplicates... "
   ]
  },
  {
   "cell_type": "code",
   "execution_count": 5,
   "id": "eb1ee614",
   "metadata": {},
   "outputs": [
    {
     "name": "stderr",
     "output_type": "stream",
     "text": [
      "C:\\Users\\diane\\anaconda3\\lib\\site-packages\\IPython\\core\\interactiveshell.py:3441: DtypeWarning: Columns (20,21,22,23,24,25,26,27,28,29,30,31,32,33,34,35,36,37,38,39,40,41,42,43) have mixed types.Specify dtype option on import or set low_memory=False.\n",
      "  exec(code_obj, self.user_global_ns, self.user_ns)\n"
     ]
    },
    {
     "data": {
      "text/plain": [
       "array(['Charlton', 'Artschwager', 'Marden', ..., 'Parsons',\n",
       "       'T R Uthco (Doug Hall born 1944', 'Strutt'], dtype=object)"
      ]
     },
     "execution_count": 5,
     "metadata": {},
     "output_type": "execute_result"
    }
   ],
   "source": [
    "# Tate Collection\n",
    "# **********************\n",
    "tate_df = pd.read_csv('Resources/the-tate-collection.csv')\n",
    "tate_df = tate_df.rename(columns={'artist':'last_name'})\n",
    "# tate_df\n",
    "tate_df['last_name'].unique()"
   ]
  }
 ],
 "metadata": {
  "kernelspec": {
   "display_name": "Python 3",
   "language": "python",
   "name": "python3"
  },
  "language_info": {
   "codemirror_mode": {
    "name": "ipython",
    "version": 3
   },
   "file_extension": ".py",
   "mimetype": "text/x-python",
   "name": "python",
   "nbconvert_exporter": "python",
   "pygments_lexer": "ipython3",
   "version": "3.8.11"
  }
 },
 "nbformat": 4,
 "nbformat_minor": 5
}
